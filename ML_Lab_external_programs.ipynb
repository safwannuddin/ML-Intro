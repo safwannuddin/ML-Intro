{
 "cells": [
  {
   "cell_type": "markdown",
   "id": "32c5bac0-283b-480f-9b88-08b36cf07076",
   "metadata": {},
   "source": [
    "### 23. Implementing SVM Classifier"
   ]
  },
  {
   "cell_type": "code",
   "execution_count": 18,
   "id": "a3db753e-b670-47e8-8428-bd548b4a0776",
   "metadata": {},
   "outputs": [
    {
     "name": "stdout",
     "output_type": "stream",
     "text": [
      "Accuracy is : 1.0\n",
      "Predicted class is : virginica\n"
     ]
    }
   ],
   "source": [
    "from sklearn.datasets import load_iris\n",
    "from sklearn.metrics import accuracy_score\n",
    "from sklearn.svm import SVC\n",
    "import numpy as np\n",
    "from sklearn.model_selection import train_test_split\n",
    "\n",
    "iris=load_iris()\n",
    "X,y=iris.data,iris.target\n",
    "\n",
    "X_train, Xtest, y_train, y_test=train_test_split(X,y,test_size=0.2,random_state=42)\n",
    "\n",
    "model=SVC(kernel='linear')\n",
    "model.fit(X_train,y_train)\n",
    "\n",
    "y_pred=model.predict(X_test)\n",
    "accuracy=accuracy_score(y_test,y_pred)\n",
    "print(\"Accuracy is :\",accuracy)\n",
    "\n",
    "sample=np.random.rand(1,4)*10\n",
    "prediction=model.predict(sample)\n",
    "\n",
    "print(\"Predicted class is :\",iris.target_names[prediction[0]])\n"
   ]
  },
  {
   "cell_type": "markdown",
   "id": "5ffe0dfe-1753-4b77-90ef-33ebbb1677ee",
   "metadata": {},
   "source": [
    "### 22. Sequential Neural Network with Iris Dataset using Keras\n"
   ]
  },
  {
   "cell_type": "code",
   "execution_count": 3,
   "id": "2aaa7dbf-569f-41c5-940f-b86301ce6e30",
   "metadata": {},
   "outputs": [
    {
     "name": "stderr",
     "output_type": "stream",
     "text": [
      "C:\\Users\\safwa\\miniconda3\\envs\\ml_env\\Lib\\site-packages\\keras\\src\\layers\\core\\dense.py:92: UserWarning: Do not pass an `input_shape`/`input_dim` argument to a layer. When using Sequential models, prefer using an `Input(shape)` object as the first layer in the model instead.\n",
      "  super().__init__(activity_regularizer=activity_regularizer, **kwargs)\n"
     ]
    },
    {
     "name": "stdout",
     "output_type": "stream",
     "text": [
      "\u001b[1m1/1\u001b[0m \u001b[32m━━━━━━━━━━━━━━━━━━━━\u001b[0m\u001b[37m\u001b[0m \u001b[1m0s\u001b[0m 80ms/step - accuracy: 0.9667 - loss: 0.0918\n",
      "Test Accuracy: 0.97\n"
     ]
    }
   ],
   "source": [
    "from keras.models import Sequential\n",
    "from keras.layers import Dense\n",
    "from sklearn.datasets import load_iris\n",
    "from sklearn.model_selection import train_test_split\n",
    "from sklearn.preprocessing import StandardScaler, LabelBinarizer\n",
    "# Load dataset\n",
    "iris = load_iris()\n",
    "X = iris.data # 4 features: sepal/petal length/width\n",
    "y = iris.target # 3 classes: 0, 1, 2\n",
    "# Normalize features\n",
    "\n",
    "# Convert labels to one-hot encoding\n",
    "encoder = LabelBinarizer()\n",
    "y_encoded = encoder.fit_transform(y)\n",
    "# Split dataset\n",
    "X_train, X_test, y_train, y_test = train_test_split(X_scaled, y_encoded, test_size=0.2,\n",
    "random_state=42)\n",
    "# Build model\n",
    "model = Sequential()\n",
    "model.add(Dense(10, input_shape=(4,), activation='relu')) # 4 inputs\n",
    "model.add(Dense(8, activation='relu'))\n",
    "model.add(Dense(3, activation='softmax')) # 3 outputs\n",
    "# Compile model\n",
    "model.compile(optimizer='adam', loss='categorical_crossentropy',\n",
    "metrics=['accuracy'])\n",
    "# Train model\n",
    "model.fit(X_train, y_train, epochs=50, batch_size=8,verbose=0, validation_data=(X_test, y_test))\n",
    "# Evaluate\n",
    "loss, acc = model.evaluate(X_test, y_test)\n",
    "print(f\"Test Accuracy: {acc:.2f}\")"
   ]
  },
  {
   "cell_type": "code",
   "execution_count": null,
   "id": "d6d41abc-5d4f-4097-a874-4f215c07649f",
   "metadata": {},
   "outputs": [],
   "source": []
  }
 ],
 "metadata": {
  "kernelspec": {
   "display_name": "Python 3 (ipykernel)",
   "language": "python",
   "name": "python3"
  },
  "language_info": {
   "codemirror_mode": {
    "name": "ipython",
    "version": 3
   },
   "file_extension": ".py",
   "mimetype": "text/x-python",
   "name": "python",
   "nbconvert_exporter": "python",
   "pygments_lexer": "ipython3",
   "version": "3.13.5"
  }
 },
 "nbformat": 4,
 "nbformat_minor": 5
}
