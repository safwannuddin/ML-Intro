{
 "cells": [
  {
   "cell_type": "code",
   "execution_count": null,
   "id": "058e9df8-9ad6-41ed-96e2-fcb77e4fda97",
   "metadata": {},
   "outputs": [],
   "source": []
  }
 ],
 "metadata": {
  "kernelspec": {
   "display_name": "",
   "name": ""
  },
  "language_info": {
   "name": ""
  }
 },
 "nbformat": 4,
 "nbformat_minor": 5
}
