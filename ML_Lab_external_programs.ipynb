{
 "cells": [
  {
   "cell_type": "markdown",
   "id": "32c5bac0-283b-480f-9b88-08b36cf07076",
   "metadata": {},
   "source": [
    "### 23. Implementing SVM Classifier"
   ]
  },
  {
   "cell_type": "code",
   "execution_count": 18,
   "id": "a3db753e-b670-47e8-8428-bd548b4a0776",
   "metadata": {},
   "outputs": [
    {
     "name": "stdout",
     "output_type": "stream",
     "text": [
      "Accuracy is : 1.0\n",
      "Predicted class is : virginica\n"
     ]
    }
   ],
   "source": [
    "from sklearn.datasets import load_iris\n",
    "from sklearn.metrics import accuracy_score\n",
    "from sklearn.svm import SVC\n",
    "import numpy as np\n",
    "from sklearn.model_selection import train_test_split\n",
    "\n",
    "iris=load_iris()\n",
    "X,y=iris.data,iris.target\n",
    "\n",
    "X_train, Xtest, y_train, y_test=train_test_split(X,y,test_size=0.2,random_state=42)\n",
    "\n",
    "model=SVC(kernel='linear')\n",
    "model.fit(X_train,y_train)\n",
    "\n",
    "y_pred=model.predict(X_test)\n",
    "accuracy=accuracy_score(y_test,y_pred)\n",
    "print(\"Accuracy is :\",accuracy)\n",
    "\n",
    "sample=np.random.rand(1,4)*10\n",
    "prediction=model.predict(sample)\n",
    "\n",
    "print(\"Predicted class is :\",iris.target_names[prediction[0]])\n"
   ]
  },
  {
   "cell_type": "code",
   "execution_count": null,
   "id": "5c751827-0f6a-406c-9d45-c4875aa62b90",
   "metadata": {},
   "outputs": [],
   "source": []
  }
 ],
 "metadata": {
  "kernelspec": {
   "display_name": "Python 3 (ipykernel)",
   "language": "python",
   "name": "python3"
  },
  "language_info": {
   "codemirror_mode": {
    "name": "ipython",
    "version": 3
   },
   "file_extension": ".py",
   "mimetype": "text/x-python",
   "name": "python",
   "nbconvert_exporter": "python",
   "pygments_lexer": "ipython3",
   "version": "3.13.5"
  }
 },
 "nbformat": 4,
 "nbformat_minor": 5
}
