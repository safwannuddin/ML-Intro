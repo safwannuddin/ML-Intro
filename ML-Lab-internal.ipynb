{
 "cells": [
  {
   "cell_type": "markdown",
   "id": "6c23445e-ec4a-4fce-bc81-ca1285213d48",
   "metadata": {},
   "source": [
    "### Bubble Sort"
   ]
  },
  {
   "cell_type": "code",
   "execution_count": 3,
   "id": "4be51717-cb97-4754-bf93-2adecab739e4",
   "metadata": {},
   "outputs": [
    {
     "ename": "IndentationError",
     "evalue": "expected an indented block after 'for' statement on line 6 (1520641034.py, line 7)",
     "output_type": "error",
     "traceback": [
      "  \u001b[36mCell\u001b[39m\u001b[36m \u001b[39m\u001b[32mIn[3]\u001b[39m\u001b[32m, line 7\u001b[39m\n\u001b[31m    \u001b[39m\u001b[31mif(a[j] > a[j+1]):\u001b[39m\n    ^\n\u001b[31mIndentationError\u001b[39m\u001b[31m:\u001b[39m expected an indented block after 'for' statement on line 6\n"
     ]
    }
   ],
   "source": [
    "import numpy as np\n",
    "\n",
    "def bubblesort(a):\n",
    "    n=len(a)\n",
    "    for i in range(n):\n",
    "        for j in range(0,n-i-1):\n",
    "        if(a[j] > a[j+1]):\n",
    "            a[j],a[j+1]=a[j+1],a[j]\n",
    "\n",
    "    a= np.array([64,25,12,22,11])\n",
    "    bubblesort(a)\n",
    "    print(a)"
   ]
  },
  {
   "cell_type": "code",
   "execution_count": null,
   "id": "3b04fa80-d037-4e30-b820-a34cfcf4cbb0",
   "metadata": {},
   "outputs": [],
   "source": []
  }
 ],
 "metadata": {
  "kernelspec": {
   "display_name": "Python 3 (ipykernel)",
   "language": "python",
   "name": "python3"
  },
  "language_info": {
   "codemirror_mode": {
    "name": "ipython",
    "version": 3
   },
   "file_extension": ".py",
   "mimetype": "text/x-python",
   "name": "python",
   "nbconvert_exporter": "python",
   "pygments_lexer": "ipython3",
   "version": "3.13.5"
  }
 },
 "nbformat": 4,
 "nbformat_minor": 5
}
