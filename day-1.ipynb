{
 "cells": [
  {
   "cell_type": "markdown",
   "id": "d3052c5d",
   "metadata": {},
   "source": [
    "basic operations on python \n"
   ]
  },
  {
   "cell_type": "code",
   "execution_count": 2,
   "id": "478d8088",
   "metadata": {},
   "outputs": [
    {
     "data": {
      "text/plain": [
       "1"
      ]
     },
     "execution_count": 2,
     "metadata": {},
     "output_type": "execute_result"
    }
   ],
   "source": [
    "2+3\n",
    "\n"
   ]
  },
  {
   "cell_type": "markdown",
   "id": "7659ae34-922f-4ab7-8a74-72da949587f5",
   "metadata": {},
   "source": [
    "### use single '' for 1 word string  and triple (''' ''') for multi lines msg or string "
   ]
  },
  {
   "cell_type": "code",
   "execution_count": 3,
   "id": "0f0fab1c-4d09-4603-92ee-fe8dacdbebe8",
   "metadata": {},
   "outputs": [
    {
     "data": {
      "text/plain": [
       "5"
      ]
     },
     "execution_count": 3,
     "metadata": {},
     "output_type": "execute_result"
    }
   ],
   "source": [
    "''' this is a multi line comment \n",
    "and we are practicing it'''\n",
    "8-3"
   ]
  },
  {
   "cell_type": "markdown",
   "id": "242b3024-3b26-4ae6-aba7-8f7eeeb15cb4",
   "metadata": {},
   "source": [
    "### Basic Python"
   ]
  },
  {
   "cell_type": "markdown",
   "id": "0e74b5c4-5849-479f-86a5-04c3d8609b1d",
   "metadata": {},
   "source": [
    "Comments\n",
    "Comments play a crucial role in enhancing code readability and allowing developers to leave notes within their code. In Python, any text preceded by a hash (#) symbol is considered a comment and is not executed when the code runs.\n",
    "\n",
    "Example: Single Line Comment\n",
    "\n",
    "    # This is the first comment\n",
    "    # This is the second comment\n",
    "    # Python is eating the world\n",
    "Example: Multiline Comment\n",
    "\n",
    "Triple quote can be used for multiline comment if it is not assigned to a variable\n",
    "\n",
    "\"\"\"This is multiline comment\n",
    "multiline comment takes multiple lines.\n",
    "python is eating the world\n",
    "\"\"\"\n",
    "Data types\n",
    "In Python there are several types of data types. Let us get started with the most common ones. Different data types will be covered in detail in other sections. For the time being, let us just go through the different data types and get familiar with them. You do not have to have a clear understanding now.\n",
    "\n",
    "Number\n",
    "Integer: Integer(negative, zero and positive) numbers Example: ... -3, -2, -1, 0, 1, 2, 3 ...\n",
    "Float: Decimal number Example ... -3.5, -2.25, -1.0, 0.0, 1.1, 2.2, 3.5 ...\n",
    "Complex Example 1 + j, 2 + 4j\n",
    "String\n",
    "A collection of one or more characters under a single or double quote. If a string is more than one sentence then we use a triple quote.\n",
    "\n",
    "Example:\n",
    "\n",
    "'Safwan'\n",
    "'India '\n",
    "'Python'\n",
    "\n",
    "Booleans\n",
    "A boolean data type is either a True or False value. T and F should be always uppercase.\n",
    "\n",
    "Example:\n",
    "\n",
    "    True  #  Is the light on? If it is on, then the value is True\n",
    "    False # Is the light on? If it is off, then the value is False\n",
    "    \n",
    "List\n",
    "Python list is an ordered collection which allows to store different data type items. A list is similar to an array in JavaScript.\n",
    "\n",
    "Example:\n",
    "\n",
    "[0, 1, 2, 3, 4, 5]  # all are the same data types - a list of numbers\n",
    "['Banana', 'Orange', 'Mango', 'Avocado'] # all the same data types - a list of strings (fruits)\n",
    "['Finland','Estonia', 'Sweden','Norway'] # all the same data types - a list of strings (countries)\n",
    "['Banana', 10, False, 9.81] # different data types in the list - string, integer, boolean and float\n"
   ]
  },
  {
   "cell_type": "markdown",
   "id": "32814cb1-635e-4929-baa6-66e0c8fb9a84",
   "metadata": {},
   "source": [
    "### Dictionary"
   ]
  },
  {
   "cell_type": "code",
   "execution_count": null,
   "id": "e2be2391-702a-40a2-aea8-298e35fa54b0",
   "metadata": {},
   "outputs": [],
   "source": [
    "'''A Python dictionary is like a storage box where you keep items. Each item has a label (key) and a value that it points to. The labels (keys) are unique, and they help you quickly find the value associated with them.\n",
    "\n",
    "For example, in a dictionary:\n",
    "{\n",
    "'first_name':'Asabeneh',\n",
    "'last_name':'Yetayeh',\n",
    "'country':'Finland', \n",
    "'age':250, \n",
    "'is_married':True,\n",
    "'skills':['JS', 'React', 'Node', 'Python']\n",
    "}\n",
    "\n",
    "\n",
    "'''\n"
   ]
  },
  {
   "cell_type": "markdown",
   "id": "2d92085c",
   "metadata": {},
   "source": [
    "### Tuple"
   ]
  },
  {
   "cell_type": "markdown",
   "id": "4f5c4502",
   "metadata": {},
   "source": [
    "''' A tuple is an ordered collection of different data types like list but tuples can not be modified once they are created. They are immutable.\n",
    "\n",
    "Example:\n",
    "\n",
    "('Asabeneh', 'Pawel', 'Brook', 'Abraham', 'Lidiya') # Names\n",
    "('Earth', 'Jupiter', 'Neptune', 'Mars', 'Venus', 'Saturn', 'Uranus', 'Mercury') # planets '''"
   ]
  },
  {
   "cell_type": "code",
   "execution_count": 7,
   "id": "1a6e567d-6dfd-48cf-91f6-8d9c06ede1a9",
   "metadata": {},
   "outputs": [
    {
     "name": "stdout",
     "output_type": "stream",
     "text": [
      "Add 5\n",
      "Add 2\n",
      "Add 6\n",
      "Add 1.5\n",
      "exponential(**) 9\n",
      "modulus(%) 1\n",
      "Floor division operator(//) 1\n"
     ]
    }
   ],
   "source": [
    "print(\"Add\",2 + 3)             # addition(+)\n",
    "print(\"Add\",3 - 1)             # subtraction(-)\n",
    "print(\"Add\",2 * 3)             # multiplication(*)\n",
    "print(\"Add\",3 / 2)             # division(/)\n",
    "print(\"exponential(**)\",3 ** 2)            # exponential(**)\n",
    "print(\"modulus(%)\",3 % 2)             # modulus(%)\n",
    "print(\"Floor division operator(//)\",3 // 2)            # Floor division operator(//)\n"
   ]
  },
  {
   "cell_type": "code",
   "execution_count": null,
   "id": "1aa31193-a290-4e51-93dd-509049eeb62c",
   "metadata": {},
   "outputs": [],
   "source": []
  }
 ],
 "metadata": {
  "kernelspec": {
   "display_name": "Python 3",
   "language": "python",
   "name": "python3"
  },
  "language_info": {
   "codemirror_mode": {
    "name": "ipython",
    "version": 3
   },
   "file_extension": ".py",
   "mimetype": "text/x-python",
   "name": "python",
   "nbconvert_exporter": "python",
   "pygments_lexer": "ipython3",
   "version": "3.11.9"
  }
 },
 "nbformat": 4,
 "nbformat_minor": 5
}
