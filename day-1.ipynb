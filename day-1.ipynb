{
 "cells": [
  {
   "cell_type": "markdown",
   "id": "d3052c5d",
   "metadata": {},
   "source": [
    "basic operations on python \n"
   ]
  }
 ],
 "metadata": {
  "language_info": {
   "name": "python"
  }
 },
 "nbformat": 4,
 "nbformat_minor": 5
}
