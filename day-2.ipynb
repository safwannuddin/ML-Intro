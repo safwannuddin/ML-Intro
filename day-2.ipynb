{
 "cells": [
  {
   "cell_type": "markdown",
   "id": "67188a6c-01ff-4c60-9268-c430ce8540a3",
   "metadata": {},
   "source": [
    "### day 2 practice questions "
   ]
  },
  {
   "cell_type": "code",
   "execution_count": null,
   "id": "30d279a9-45d0-4634-baa9-5d5a42845743",
   "metadata": {},
   "outputs": [],
   "source": []
  }
 ],
 "metadata": {
  "kernelspec": {
   "display_name": "Python 3 (ipykernel)",
   "language": "python",
   "name": "python3"
  },
  "language_info": {
   "codemirror_mode": {
    "name": "ipython",
    "version": 3
   },
   "file_extension": ".py",
   "mimetype": "text/x-python",
   "name": "python",
   "nbconvert_exporter": "python",
   "pygments_lexer": "ipython3",
   "version": "3.13.5"
  }
 },
 "nbformat": 4,
 "nbformat_minor": 5
}
