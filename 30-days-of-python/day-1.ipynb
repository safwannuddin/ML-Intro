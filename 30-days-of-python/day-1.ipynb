{
 "cells": [
  {
   "cell_type": "markdown",
   "id": "d3052c5d",
   "metadata": {},
   "source": [
    "basic operations on python \n"
   ]
  },
  {
   "cell_type": "code",
   "execution_count": 2,
   "id": "478d8088",
   "metadata": {},
   "outputs": [
    {
     "data": {
      "text/plain": [
       "1"
      ]
     },
     "execution_count": 2,
     "metadata": {},
     "output_type": "execute_result"
    }
   ],
   "source": [
    "2+3\n",
    "\n"
   ]
  },
  {
   "cell_type": "markdown",
   "id": "7659ae34-922f-4ab7-8a74-72da949587f5",
   "metadata": {},
   "source": [
    "### use single '' for 1 word string  and triple (''' ''') for multi lines msg or string "
   ]
  },
  {
   "cell_type": "code",
   "execution_count": 3,
   "id": "0f0fab1c-4d09-4603-92ee-fe8dacdbebe8",
   "metadata": {},
   "outputs": [
    {
     "data": {
      "text/plain": [
       "5"
      ]
     },
     "execution_count": 3,
     "metadata": {},
     "output_type": "execute_result"
    }
   ],
   "source": [
    "''' this is a multi line comment \n",
    "and we are practicing it'''\n",
    "8-3"
   ]
  },
  {
   "cell_type": "code",
   "execution_count": null,
   "id": "1b677571-d176-49e4-aa35-cfb553f9277b",
   "metadata": {},
   "outputs": [],
   "source": []
  }
 ],
 "metadata": {
  "kernelspec": {
   "display_name": "Python 3 (ipykernel)",
   "language": "python",
   "name": "python3"
  },
  "language_info": {
   "codemirror_mode": {
    "name": "ipython",
    "version": 3
   },
   "file_extension": ".py",
   "mimetype": "text/x-python",
   "name": "python",
   "nbconvert_exporter": "python",
   "pygments_lexer": "ipython3",
   "version": "3.13.5"
  }
 },
 "nbformat": 4,
 "nbformat_minor": 5
}
