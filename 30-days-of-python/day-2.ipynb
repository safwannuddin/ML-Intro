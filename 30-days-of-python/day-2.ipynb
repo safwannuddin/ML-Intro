{
 "cells": [
  {
   "cell_type": "code",
   "execution_count": null,
   "id": "779eefb5-e5a0-479b-acd6-e42a196cb7fe",
   "metadata": {},
   "outputs": [],
   "source": []
  }
 ],
 "metadata": {
  "kernelspec": {
   "display_name": "",
   "name": ""
  },
  "language_info": {
   "name": ""
  }
 },
 "nbformat": 4,
 "nbformat_minor": 5
}
