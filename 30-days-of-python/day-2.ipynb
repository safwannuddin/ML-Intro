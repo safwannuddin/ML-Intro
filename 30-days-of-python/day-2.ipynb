{
 "cells": [
  {
   "cell_type": "markdown",
   "id": "af50c1a0-9580-46f5-9f49-2f1f542719e9",
   "metadata": {},
   "source": [
    " practice .\n",
    "\n",
    "💻 Exercises - Day 2\n",
    "Exercises: Level 1\n",
    "Inside 30DaysOfPython create a folder called day_2. Inside this folder create a file named variables.py\n",
    "Write a python comment saying 'Day 2: 30 Days of python programming'\n",
    "Declare a first name variable and assign a value to it\n",
    "Declare a last name variable and assign a value to it\n",
    "Declare a full name variable and assign a value to it\n",
    "Declare a country variable and assign a value to it\n",
    "Declare a city variable and assign a value to it\n",
    "Declare an age variable and assign a value to it\n",
    "Declare a year variable and assign a value to it\n",
    "Declare a variable is_married and assign a value to it\n",
    "Declare a variable is_true and assign a value to it\n",
    "Declare a variable is_light_on and assign a value to it\n",
    "Declare multiple variable on one line\n",
    "Exercises: Level 2\n",
    "Check the data type of all your variables using type() built-in function\n",
    "Using the len() built-in function, find the length of your first name\n",
    "Compare the length of your first name and your last name\n",
    "Declare 5 as num_one and 4 as num_two\n",
    "Add num_one and num_two and assign the value to a variable total\n",
    "Subtract num_two from num_one and assign the value to a variable diff\n",
    "Multiply num_two and num_one and assign the value to a variable product\n",
    "Divide num_one by num_two and assign the value to a variable division\n",
    "Use modulus division to find num_two divided by num_one and assign the value to a variable remainder\n",
    "Calculate num_one to the power of num_two and assign the value to a variable exp\n",
    "Find floor division of num_one by num_two and assign the value to a variable floor_division\n",
    "The radius of a circle is 30 meters.\n",
    "Calculate the area of a circle and assign the value to a variable name of area_of_circle\n",
    "Calculate the circumference of a circle and assign the value to a variable name of circum_of_circle\n",
    "Take radius as user input and calculate the area.\n",
    "Use the built-in input function to get first name, last name, country and age from a user and store the value to their corresponding variable names\n",
    "Run help('keywords') in Python shell or in your file to check for the Python reserved words or keywords\n",
    "\n"
   ]
  },
  {
   "cell_type": "markdown",
   "id": "13525aa9-540b-4725-b087-07fef5153b7a",
   "metadata": {},
   "source": [
    "### Exercises: Level 1"
   ]
  },
  {
   "cell_type": "code",
   "execution_count": 1,
   "id": "cc931bac-ac66-4b6d-9f7f-28f3348c607d",
   "metadata": {},
   "outputs": [],
   "source": [
    "# day 2 of python programming \n"
   ]
  },
  {
   "cell_type": "code",
   "execution_count": 3,
   "id": "2e1e6df2-f0f3-4994-9d00-4c46ee590ced",
   "metadata": {},
   "outputs": [
    {
     "data": {
      "text/plain": [
       "'NO'"
      ]
     },
     "execution_count": 3,
     "metadata": {},
     "output_type": "execute_result"
    }
   ],
   "source": [
    "first_name=\"Safwan\"\n",
    "Last_name=\"uddin\"\n",
    "Full_name=\"Mohd Safwan Uddin\"\n",
    "country=\"India\"\n",
    "City=\"Hyderabad\"\n",
    "age=\"20\"\n",
    "Is_married=\"NO\"\n",
    "\n",
    "Full_name\n",
    "age\n",
    "City\n",
    "country\n",
    "Is_married"
   ]
  },
  {
   "cell_type": "code",
   "execution_count": null,
   "id": "9a879dc0-e9a0-448f-8376-ddc1c707ecd0",
   "metadata": {},
   "outputs": [],
   "source": []
  }
 ],
 "metadata": {
  "kernelspec": {
   "display_name": "Python 3 (ipykernel)",
   "language": "python",
   "name": "python3"
  },
  "language_info": {
   "codemirror_mode": {
    "name": "ipython",
    "version": 3
   },
   "file_extension": ".py",
   "mimetype": "text/x-python",
   "name": "python",
   "nbconvert_exporter": "python",
   "pygments_lexer": "ipython3",
   "version": "3.13.5"
  }
 },
 "nbformat": 4,
 "nbformat_minor": 5
}
