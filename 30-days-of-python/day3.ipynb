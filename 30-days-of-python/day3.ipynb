{
 "cells": [
  {
   "cell_type": "code",
   "execution_count": 8,
   "id": "10bba34a-bbb2-4c59-9e1c-4f29993c7fda",
   "metadata": {},
   "outputs": [],
   "source": [
    "#Declare your age as integer variable\n",
    "#Declare your height as a float variable\n",
    "#Declare a variable that store a complex number///\n",
    "age = 20\n",
    "height = 5.8\n",
    "c = 3+5j"
   ]
  },
  {
   "cell_type": "code",
   "execution_count": 5,
   "id": "4500a2c3-15ab-4f15-8a60-53ced2510d13",
   "metadata": {},
   "outputs": [
    {
     "name": "stdin",
     "output_type": "stream",
     "text": [
      "Enter the base:  23\n",
      "Enter the height:  33\n"
     ]
    },
    {
     "name": "stdout",
     "output_type": "stream",
     "text": [
      "Area of triangle is: 379.5\n"
     ]
    }
   ],
   "source": [
    "// Write a script that prompts the user to enter base and height of the triangle and calculate an area of this triangle (area = 0.5 x b x h).\n",
    "b = float(input(\"Enter the base: \"))\n",
    "h = float(input(\"Enter the height: \"))\n",
    "\n",
    "# Calculate area\n",
    "area = 0.5 * b * h\n",
    "\n",
    "# Display result\n",
    "print(\"Area of triangle is:\", area)\n"
   ]
  },
  {
   "cell_type": "code",
   "execution_count": 10,
   "id": "e683710e-d7d2-416b-bca0-7adc67ca1a7b",
   "metadata": {},
   "outputs": [
    {
     "name": "stdin",
     "output_type": "stream",
     "text": [
      " enter the  1 side of the tringle :  4.342\n",
      " enter the  2 side of the tringle :  342.32\n",
      " enter the 3 side of the tringle :  3242\n"
     ]
    },
    {
     "name": "stdout",
     "output_type": "stream",
     "text": [
      "perimeter of the Triangle is : 3588.662\n"
     ]
    }
   ],
   "source": [
    "#Write a script that prompts the user to enter side a, side b, and side c of the triangle. Calculate the perimeter of the triangle (perimeter = a + b + c).\n",
    "\n",
    "a = float (input (\" enter the  1 side of the tringle : \"))\n",
    "b= float (input (\" enter the  2 side of the tringle : \"))\n",
    "c = float (input (\" enter the 3 side of the tringle : \"))\n",
    "\n",
    "perimeter = a+b+c;\n",
    "\n",
    "print(\"perimeter of the Triangle is :\",perimeter)"
   ]
  },
  {
   "cell_type": "code",
   "execution_count": 11,
   "id": "db6ea5f0-aece-4b9c-8931-553d3976eacc",
   "metadata": {},
   "outputs": [
    {
     "name": "stdin",
     "output_type": "stream",
     "text": [
      "Enter the length   : 20\n",
      "Enter the height   : 30\n"
     ]
    },
    {
     "name": "stdout",
     "output_type": "stream",
     "text": [
      "Area of the triangle is : 600\n",
      "perimenter of the triangle is : 1200\n"
     ]
    }
   ],
   "source": [
    "# Get length and width of a rectangle using prompt. Calculate its area (area = length x width) and perimeter (perimeter = 2 x (length + width)) \n",
    "\n",
    "len= int (input (\"Enter the length   :\"))\n",
    "hei  = int (input (\"Enter the height   :\"))\n",
    "\n",
    "area = len * hei;\n",
    "perimeter = 2*(len* hei);\n",
    "\n",
    "print(\"Area of the triangle is :\",area)\n",
    "print(\"perimenter of the triangle is :\",perimeter)"
   ]
  },
  {
   "cell_type": "code",
   "execution_count": 15,
   "id": "9b412bce-23aa-45d9-b7fe-86c46db71f6f",
   "metadata": {},
   "outputs": [
    {
     "name": "stdin",
     "output_type": "stream",
     "text": [
      "Enter the radius   : 34\n"
     ]
    },
    {
     "name": "stdout",
     "output_type": "stream",
     "text": [
      "Area of the circle is : 3629.84\n",
      "Circumference of the circle  is : 213.52\n"
     ]
    }
   ],
   "source": [
    "#Get radius of a circle using prompt. Calculate the area (area = pi x r x r) and circumference (c = 2 x pi x r) where pi = 3.14.\n",
    "rad= float  (input (\"Enter the radius   :\")) \n",
    "pi = 3.14\n",
    "\n",
    "area = (pi*rad*rad)\n",
    "circumf=(2*pi*rad)\n",
    "print(\"Area of the circle is :\",area)\n",
    "print(\"Circumference of the circle  is :\",circumf)"
   ]
  },
  {
   "cell_type": "code",
   "execution_count": null,
   "id": "3b36025f-1827-4090-82e9-77b276f304e6",
   "metadata": {},
   "outputs": [],
   "source": [
    "#Calculate the slope, x-intercept and y-intercept of y = 2x -2\n",
    "\n"
   ]
  }
 ],
 "metadata": {
  "kernelspec": {
   "display_name": "Python 3 (ipykernel)",
   "language": "python",
   "name": "python3"
  },
  "language_info": {
   "codemirror_mode": {
    "name": "ipython",
    "version": 3
   },
   "file_extension": ".py",
   "mimetype": "text/x-python",
   "name": "python",
   "nbconvert_exporter": "python",
   "pygments_lexer": "ipython3",
   "version": "3.13.5"
  }
 },
 "nbformat": 4,
 "nbformat_minor": 5
}
