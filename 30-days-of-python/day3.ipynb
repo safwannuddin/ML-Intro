{
 "cells": [
  {
   "cell_type": "code",
   "execution_count": 8,
   "id": "10bba34a-bbb2-4c59-9e1c-4f29993c7fda",
   "metadata": {},
   "outputs": [],
   "source": [
    "#Declare your age as integer variable\n",
    "#Declare your height as a float variable\n",
    "#Declare a variable that store a complex number///\n",
    "age = 20\n",
    "height = 5.8\n",
    "c = 3+5j"
   ]
  },
  {
   "cell_type": "code",
   "execution_count": 5,
   "id": "4500a2c3-15ab-4f15-8a60-53ced2510d13",
   "metadata": {},
   "outputs": [
    {
     "name": "stdin",
     "output_type": "stream",
     "text": [
      "Enter the base:  23\n",
      "Enter the height:  33\n"
     ]
    },
    {
     "name": "stdout",
     "output_type": "stream",
     "text": [
      "Area of triangle is: 379.5\n"
     ]
    }
   ],
   "source": [
    "// Write a script that prompts the user to enter base and height of the triangle and calculate an area of this triangle (area = 0.5 x b x h).\n",
    "b = float(input(\"Enter the base: \"))\n",
    "h = float(input(\"Enter the height: \"))\n",
    "\n",
    "# Calculate area\n",
    "area = 0.5 * b * h\n",
    "\n",
    "# Display result\n",
    "print(\"Area of triangle is:\", area)\n"
   ]
  },
  {
   "cell_type": "code",
   "execution_count": 10,
   "id": "e683710e-d7d2-416b-bca0-7adc67ca1a7b",
   "metadata": {},
   "outputs": [
    {
     "name": "stdin",
     "output_type": "stream",
     "text": [
      " enter the  1 side of the tringle :  4.342\n",
      " enter the  2 side of the tringle :  342.32\n",
      " enter the 3 side of the tringle :  3242\n"
     ]
    },
    {
     "name": "stdout",
     "output_type": "stream",
     "text": [
      "perimeter of the Triangle is : 3588.662\n"
     ]
    }
   ],
   "source": [
    "#Write a script that prompts the user to enter side a, side b, and side c of the triangle. Calculate the perimeter of the triangle (perimeter = a + b + c).\n",
    "\n",
    "a = float (input (\" enter the  1 side of the tringle : \"))\n",
    "b= float (input (\" enter the  2 side of the tringle : \"))\n",
    "c = float (input (\" enter the 3 side of the tringle : \"))\n",
    "\n",
    "perimeter = a+b+c;\n",
    "\n",
    "print(\"perimeter of the Triangle is :\",perimeter)"
   ]
  },
  {
   "cell_type": "code",
   "execution_count": 11,
   "id": "db6ea5f0-aece-4b9c-8931-553d3976eacc",
   "metadata": {},
   "outputs": [
    {
     "name": "stdin",
     "output_type": "stream",
     "text": [
      "Enter the length   : 20\n",
      "Enter the height   : 30\n"
     ]
    },
    {
     "name": "stdout",
     "output_type": "stream",
     "text": [
      "Area of the triangle is : 600\n",
      "perimenter of the triangle is : 1200\n"
     ]
    }
   ],
   "source": [
    "# Get length and width of a rectangle using prompt. Calculate its area (area = length x width) and perimeter (perimeter = 2 x (length + width)) \n",
    "\n",
    "len= int (input (\"Enter the length   :\"))\n",
    "hei  = int (input (\"Enter the height   :\"))\n",
    "\n",
    "area = len * hei;\n",
    "perimeter = 2*(len* hei);\n",
    "\n",
    "print(\"Area of the triangle is :\",area)\n",
    "print(\"perimenter of the triangle is :\",perimeter)"
   ]
  },
  {
   "cell_type": "code",
   "execution_count": 15,
   "id": "9b412bce-23aa-45d9-b7fe-86c46db71f6f",
   "metadata": {},
   "outputs": [
    {
     "name": "stdin",
     "output_type": "stream",
     "text": [
      "Enter the radius   : 34\n"
     ]
    },
    {
     "name": "stdout",
     "output_type": "stream",
     "text": [
      "Area of the circle is : 3629.84\n",
      "Circumference of the circle  is : 213.52\n"
     ]
    }
   ],
   "source": [
    "#Get radius of a circle using prompt. Calculate the area (area = pi x r x r) and circumference (c = 2 x pi x r) where pi = 3.14.\n",
    "rad= float  (input (\"Enter the radius   :\")) \n",
    "pi = 3.14\n",
    "\n",
    "area = (pi*rad*rad)\n",
    "circumf=(2*pi*rad)\n",
    "print(\"Area of the circle is :\",area)\n",
    "print(\"Circumference of the circle  is :\",circumf)"
   ]
  },
  {
   "cell_type": "code",
   "execution_count": 16,
   "id": "3b36025f-1827-4090-82e9-77b276f304e6",
   "metadata": {},
   "outputs": [
    {
     "name": "stdout",
     "output_type": "stream",
     "text": [
      "Slope: 2\n",
      "Y-intercept: -2\n",
      "X-intercept: 1.0\n"
     ]
    }
   ],
   "source": [
    "#Calculate the slope, x-intercept and y-intercept of y = 2x -2\n",
    "\n",
    "# Line equation y = 2x - 2\n",
    "m = 2   # slope\n",
    "c = -2  # y-intercept\n",
    "\n",
    "# Calculate y-intercept (x=0)\n",
    "y_intercept = m * 0 + c\n",
    "\n",
    "# Calculate x-intercept (y=0)\n",
    "x_intercept = -c / m\n",
    "\n",
    "# Print results\n",
    "print(\"Slope:\", m)\n",
    "print(\"Y-intercept:\", y_intercept)\n",
    "print(\"X-intercept:\", x_intercept)\n"
   ]
  },
  {
   "cell_type": "code",
   "execution_count": 20,
   "id": "a83c95da-b44b-4b70-b5af-b79fe170e275",
   "metadata": {},
   "outputs": [
    {
     "name": "stdout",
     "output_type": "stream",
     "text": [
      "Slope (m) is: 2.0\n",
      "Euclidean distance is: 8.94427190999916\n"
     ]
    }
   ],
   "source": [
    "#Slope is (m = y2-y1/x2-x1). Find the slope and Euclidean distance between point (2, 2) and point (6,10)\n",
    "import math\n",
    "\n",
    "x1 = 2\n",
    "y1 = 2\n",
    "x2 = 6\n",
    "y2 = 10\n",
    "\n",
    "# Slope\n",
    "m = (y2 - y1) / (x2 - x1)\n",
    "print(\"Slope (m) is:\", m)\n",
    "\n",
    "# Euclidean distance\n",
    "distance = math.sqrt((x2 - x1)**2 + (y2 - y1)**2)\n",
    "print(\"Euclidean distance is:\", distance)\n",
    "\n"
   ]
  },
  {
   "cell_type": "code",
   "execution_count": 26,
   "id": "9a4f3093-6687-4d2c-816b-dabc7a37cb99",
   "metadata": {},
   "outputs": [
    {
     "name": "stdin",
     "output_type": "stream",
     "text": [
      "Enter the value of X :  -3\n"
     ]
    },
    {
     "name": "stdout",
     "output_type": "stream",
     "text": [
      "printed the y value is :  0\n"
     ]
    }
   ],
   "source": [
    "#Calculate the value of y (y = x^2 + 6x + 9). Try to use different x values and figure out at what x value y is going to be 0.\n",
    "x = int (input (\"Enter the value of X : \"))\n",
    "y = ((x**2)+6*x+9);\n",
    "print(\"printed the y value is : \",y);"
   ]
  },
  {
   "cell_type": "code",
   "execution_count": 30,
   "id": "d52422de-6f50-48e7-9d0c-438cdf46c3ba",
   "metadata": {},
   "outputs": [
    {
     "name": "stdout",
     "output_type": "stream",
     "text": [
      "Length of python: 6\n",
      "Length of dragon: 6\n"
     ]
    }
   ],
   "source": [
    "#Find the length of 'python' and 'dragon' and make a falsy comparison statement.\n",
    "p = 'python'\n",
    "d = 'dragon'\n",
    "\n",
    "len_p = len(p)\n",
    "len_d = len(d)\n",
    "\n",
    "print(\"Length of python:\", len_p)\n",
    "print(\"Length of dragon:\", len_d)\n",
    "\n",
    "\n"
   ]
  },
  {
   "cell_type": "code",
   "execution_count": 29,
   "id": "3b6848cd-85ab-49cb-be1f-4574e178fcaa",
   "metadata": {},
   "outputs": [],
   "source": [
    "del len\n"
   ]
  },
  {
   "cell_type": "code",
   "execution_count": null,
   "id": "68c106a0-9fc7-4403-b466-b9e8e6c668c3",
   "metadata": {},
   "outputs": [],
   "source": []
  }
 ],
 "metadata": {
  "kernelspec": {
   "display_name": "Python 3 (ipykernel)",
   "language": "python",
   "name": "python3"
  },
  "language_info": {
   "codemirror_mode": {
    "name": "ipython",
    "version": 3
   },
   "file_extension": ".py",
   "mimetype": "text/x-python",
   "name": "python",
   "nbconvert_exporter": "python",
   "pygments_lexer": "ipython3",
   "version": "3.13.5"
  }
 },
 "nbformat": 4,
 "nbformat_minor": 5
}
