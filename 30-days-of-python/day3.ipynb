{
 "cells": [
  {
   "cell_type": "code",
   "execution_count": 8,
   "id": "10bba34a-bbb2-4c59-9e1c-4f29993c7fda",
   "metadata": {},
   "outputs": [],
   "source": [
    "#Declare your age as integer variable\n",
    "#Declare your height as a float variable\n",
    "#Declare a variable that store a complex number///\n",
    "age = 20\n",
    "height = 5.8\n",
    "c = 3+5j"
   ]
  },
  {
   "cell_type": "code",
   "execution_count": 5,
   "id": "4500a2c3-15ab-4f15-8a60-53ced2510d13",
   "metadata": {},
   "outputs": [
    {
     "name": "stdin",
     "output_type": "stream",
     "text": [
      "Enter the base:  23\n",
      "Enter the height:  33\n"
     ]
    },
    {
     "name": "stdout",
     "output_type": "stream",
     "text": [
      "Area of triangle is: 379.5\n"
     ]
    }
   ],
   "source": [
    "// Write a script that prompts the user to enter base and height of the triangle and calculate an area of this triangle (area = 0.5 x b x h).\n",
    "b = float(input(\"Enter the base: \"))\n",
    "h = float(input(\"Enter the height: \"))\n",
    "\n",
    "# Calculate area\n",
    "area = 0.5 * b * h\n",
    "\n",
    "# Display result\n",
    "print(\"Area of triangle is:\", area)\n"
   ]
  },
  {
   "cell_type": "code",
   "execution_count": null,
   "id": "e683710e-d7d2-416b-bca0-7adc67ca1a7b",
   "metadata": {},
   "outputs": [],
   "source": [
    "#Write a script that prompts the user to enter side a, side b, and side c of the triangle. Calculate the perimeter of the triangle (perimeter = a + b + c).\n",
    "\n",
    "a = float (input (\" enter the side of the tringle : \"))\n",
    "b= float (input (\" enter the side of the tringle : \"))\n",
    "c = float (input (\" enter the side of the tringle : \"))\n",
    "\n",
    "perimeter = a+b+c;\n",
    "\n",
    "print(\"perimeter of the Triangle \")"
   ]
  }
 ],
 "metadata": {
  "kernelspec": {
   "display_name": "Python 3 (ipykernel)",
   "language": "python",
   "name": "python3"
  },
  "language_info": {
   "codemirror_mode": {
    "name": "ipython",
    "version": 3
   },
   "file_extension": ".py",
   "mimetype": "text/x-python",
   "name": "python",
   "nbconvert_exporter": "python",
   "pygments_lexer": "ipython3",
   "version": "3.13.5"
  }
 },
 "nbformat": 4,
 "nbformat_minor": 5
}
