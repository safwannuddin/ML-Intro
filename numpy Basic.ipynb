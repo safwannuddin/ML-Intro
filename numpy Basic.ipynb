{
 "cells": [
  {
   "cell_type": "markdown",
   "id": "55f16643-ec2a-4a2e-a73e-33436cdc1af9",
   "metadata": {},
   "source": [
    "###introduction to numpy "
   ]
  },
  {
   "cell_type": "code",
   "execution_count": 1,
   "id": "4c3769f7-36e4-4580-8ad3-cceca03c9151",
   "metadata": {},
   "outputs": [],
   "source": [
    "import numpy as np\n"
   ]
  },
  {
   "cell_type": "code",
   "execution_count": 2,
   "id": "5a4ed4cb-e615-4755-ae61-f0897d9c88a1",
   "metadata": {},
   "outputs": [
    {
     "data": {
      "text/plain": [
       "array([2, 4, 4])"
      ]
     },
     "execution_count": 2,
     "metadata": {},
     "output_type": "execute_result"
    }
   ],
   "source": [
    "a1=np.array([2,4,4])\n",
    "a1"
   ]
  },
  {
   "cell_type": "code",
   "execution_count": 4,
   "id": "ce260a41-8603-4485-8ebf-41cec56dc91e",
   "metadata": {},
   "outputs": [
    {
     "data": {
      "text/plain": [
       "array([[3, 4, 3],\n",
       "       [2, 2, 8]])"
      ]
     },
     "execution_count": 4,
     "metadata": {},
     "output_type": "execute_result"
    }
   ],
   "source": [
    "a2=np.array([[3,4,3],[2,2,8]])\n",
    "a2"
   ]
  },
  {
   "cell_type": "markdown",
   "id": "f8984972-6f24-4be3-8f3f-6f9f2fbd6efe",
   "metadata": {},
   "source": [
    "### arrays creations"
   ]
  },
  {
   "cell_type": "markdown",
   "id": "4e658b82-f964-45e1-b651-5c30085880ea",
   "metadata": {},
   "source": [
    "### of matrices in numpy"
   ]
  },
  {
   "cell_type": "code",
   "execution_count": 12,
   "id": "f3a9154f-c017-481c-b13f-5dd22cd6d8b4",
   "metadata": {},
   "outputs": [
    {
     "name": "stdout",
     "output_type": "stream",
     "text": [
      "Zero matrix is:\n",
      "\n"
     ]
    },
    {
     "data": {
      "text/plain": [
       "array([[0., 0., 0., 0., 0., 0.],\n",
       "       [0., 0., 0., 0., 0., 0.],\n",
       "       [0., 0., 0., 0., 0., 0.],\n",
       "       [0., 0., 0., 0., 0., 0.],\n",
       "       [0., 0., 0., 0., 0., 0.],\n",
       "       [0., 0., 0., 0., 0., 0.],\n",
       "       [0., 0., 0., 0., 0., 0.]])"
      ]
     },
     "execution_count": 12,
     "metadata": {},
     "output_type": "execute_result"
    }
   ],
   "source": [
    "\n",
    "\n",
    "a4 = np.zeros((7, 6))\n",
    "print(\"Zero matrix is:\\n\")\n",
    "a4\n"
   ]
  },
  {
   "cell_type": "code",
   "execution_count": 15,
   "id": "fd7eac40-656b-4613-b109-65bc0dbec2ba",
   "metadata": {},
   "outputs": [
    {
     "name": "stdout",
     "output_type": "stream",
     "text": [
      " matrix is:\n",
      "\n"
     ]
    },
    {
     "data": {
      "text/plain": [
       "array([[7, 7, 7, 7, 7, 7],\n",
       "       [7, 7, 7, 7, 7, 7],\n",
       "       [7, 7, 7, 7, 7, 7],\n",
       "       [7, 7, 7, 7, 7, 7],\n",
       "       [7, 7, 7, 7, 7, 7],\n",
       "       [7, 7, 7, 7, 7, 7],\n",
       "       [7, 7, 7, 7, 7, 7]])"
      ]
     },
     "execution_count": 15,
     "metadata": {},
     "output_type": "execute_result"
    }
   ],
   "source": [
    "\n",
    "\n",
    "a5= np.full((7, 6),7)\n",
    "print(\" matrix is:\\n\")\n",
    "a5\n"
   ]
  },
  {
   "cell_type": "code",
   "execution_count": null,
   "id": "96f9f9fd-539f-42d7-a0b8-841dc7608155",
   "metadata": {},
   "outputs": [],
   "source": []
  }
 ],
 "metadata": {
  "kernelspec": {
   "display_name": "Python 3 (ipykernel)",
   "language": "python",
   "name": "python3"
  },
  "language_info": {
   "codemirror_mode": {
    "name": "ipython",
    "version": 3
   },
   "file_extension": ".py",
   "mimetype": "text/x-python",
   "name": "python",
   "nbconvert_exporter": "python",
   "pygments_lexer": "ipython3",
   "version": "3.13.2"
  }
 },
 "nbformat": 4,
 "nbformat_minor": 5
}
