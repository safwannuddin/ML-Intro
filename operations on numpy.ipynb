{
 "cells": [
  {
   "cell_type": "markdown",
   "id": "60a5a7a8-5bc9-455a-b64e-01510877b144",
   "metadata": {},
   "source": [
    "##Dot product example\n"
   ]
  },
  {
   "cell_type": "code",
   "execution_count": 3,
   "id": "1b8aaaaa-ef9a-4b54-b27e-002713e9444c",
   "metadata": {},
   "outputs": [],
   "source": [
    "import numpy as np\n",
    "import pandas as pd"
   ]
  },
  {
   "cell_type": "code",
   "execution_count": 5,
   "id": "23210f9f-2709-48f6-80b3-583a962563fe",
   "metadata": {},
   "outputs": [
    {
     "data": {
      "text/plain": [
       "array([[12, 15, 21],\n",
       "       [ 0,  3, 27],\n",
       "       [ 3,  7,  9],\n",
       "       [19, 21, 18],\n",
       "       [ 4, 23,  6]], dtype=int32)"
      ]
     },
     "execution_count": 5,
     "metadata": {},
     "output_type": "execute_result"
    }
   ],
   "source": [
    "np.random.seed(0)\n",
    "\n",
    "sales_amounts=np.random.randint(30, size= (5,3))\n",
    "sales_amounts"
   ]
  },
  {
   "cell_type": "code",
   "execution_count": 8,
   "id": "cc43c20f-b1e1-4448-9771-f6a8ae7dd5b6",
   "metadata": {},
   "outputs": [
    {
     "data": {
      "text/html": [
       "<div>\n",
       "<style scoped>\n",
       "    .dataframe tbody tr th:only-of-type {\n",
       "        vertical-align: middle;\n",
       "    }\n",
       "\n",
       "    .dataframe tbody tr th {\n",
       "        vertical-align: top;\n",
       "    }\n",
       "\n",
       "    .dataframe thead th {\n",
       "        text-align: right;\n",
       "    }\n",
       "</style>\n",
       "<table border=\"1\" class=\"dataframe\">\n",
       "  <thead>\n",
       "    <tr style=\"text-align: right;\">\n",
       "      <th></th>\n",
       "      <th>Almond</th>\n",
       "      <th>Penut</th>\n",
       "      <th>Cashew</th>\n",
       "    </tr>\n",
       "  </thead>\n",
       "  <tbody>\n",
       "    <tr>\n",
       "      <th>Mon</th>\n",
       "      <td>12</td>\n",
       "      <td>15</td>\n",
       "      <td>21</td>\n",
       "    </tr>\n",
       "    <tr>\n",
       "      <th>Tue</th>\n",
       "      <td>0</td>\n",
       "      <td>3</td>\n",
       "      <td>27</td>\n",
       "    </tr>\n",
       "    <tr>\n",
       "      <th>wed</th>\n",
       "      <td>3</td>\n",
       "      <td>7</td>\n",
       "      <td>9</td>\n",
       "    </tr>\n",
       "    <tr>\n",
       "      <th>Thur</th>\n",
       "      <td>19</td>\n",
       "      <td>21</td>\n",
       "      <td>18</td>\n",
       "    </tr>\n",
       "    <tr>\n",
       "      <th>Fri</th>\n",
       "      <td>4</td>\n",
       "      <td>23</td>\n",
       "      <td>6</td>\n",
       "    </tr>\n",
       "  </tbody>\n",
       "</table>\n",
       "</div>"
      ],
      "text/plain": [
       "      Almond    Penut  Cashew\n",
       "Mon        12      15      21\n",
       "Tue         0       3      27\n",
       "wed         3       7       9\n",
       "Thur       19      21      18\n",
       "Fri         4      23       6"
      ]
     },
     "execution_count": 8,
     "metadata": {},
     "output_type": "execute_result"
    }
   ],
   "source": [
    "weekly_sales=pd.DataFrame(sales_amounts,\n",
    "                          index=[\"Mon\",\"Tue\",\"wed\",\"Thur\",\"Fri\"],\n",
    "                          columns=[\"Almond \",\" Penut\",\"Cashew\"])\n",
    "weekly_sales"
   ]
  },
  {
   "cell_type": "code",
   "execution_count": null,
   "id": "f8f8e31d-0a44-48f6-a522-f3cdcc036a2b",
   "metadata": {},
   "outputs": [],
   "source": []
  },
  {
   "cell_type": "code",
   "execution_count": 10,
   "id": "ff67be78-c1f9-4dc4-8d38-b3ebf44f2c2e",
   "metadata": {},
   "outputs": [
    {
     "data": {
      "text/plain": [
       "array([10,  8, 15])"
      ]
     },
     "execution_count": 10,
     "metadata": {},
     "output_type": "execute_result"
    }
   ],
   "source": [
    "prices=np.array([10,8,15])\n",
    "prices"
   ]
  },
  {
   "cell_type": "code",
   "execution_count": 13,
   "id": "71503767-64a7-4ab9-8a0d-40102fd53938",
   "metadata": {},
   "outputs": [
    {
     "data": {
      "text/html": [
       "<div>\n",
       "<style scoped>\n",
       "    .dataframe tbody tr th:only-of-type {\n",
       "        vertical-align: middle;\n",
       "    }\n",
       "\n",
       "    .dataframe tbody tr th {\n",
       "        vertical-align: top;\n",
       "    }\n",
       "\n",
       "    .dataframe thead th {\n",
       "        text-align: right;\n",
       "    }\n",
       "</style>\n",
       "<table border=\"1\" class=\"dataframe\">\n",
       "  <thead>\n",
       "    <tr style=\"text-align: right;\">\n",
       "      <th></th>\n",
       "      <th>Almond</th>\n",
       "      <th>Penut</th>\n",
       "      <th>Cashew</th>\n",
       "    </tr>\n",
       "  </thead>\n",
       "  <tbody>\n",
       "    <tr>\n",
       "      <th>prices</th>\n",
       "      <td>10</td>\n",
       "      <td>8</td>\n",
       "      <td>15</td>\n",
       "    </tr>\n",
       "  </tbody>\n",
       "</table>\n",
       "</div>"
      ],
      "text/plain": [
       "        Almond    Penut  Cashew\n",
       "prices       10       8      15"
      ]
     },
     "execution_count": 13,
     "metadata": {},
     "output_type": "execute_result"
    }
   ],
   "source": [
    "butter_prices=pd.DataFrame(prices.reshape(1,3),\n",
    "                          index=[\"prices\"],\n",
    "                           columns=[\"Almond \",\" Penut\",\"Cashew\"])\n",
    "                          \n",
    "butter_prices"
   ]
  },
  {
   "cell_type": "code",
   "execution_count": 7,
   "id": "1c348491-1e25-4f97-96eb-4047850921fe",
   "metadata": {},
   "outputs": [
    {
     "data": {
      "text/plain": [
       "array([[9, 2, 3, 7, 8],\n",
       "       [3, 8, 9, 9, 3],\n",
       "       [5, 9, 9, 4, 4]], dtype=int32)"
      ]
     },
     "execution_count": 7,
     "metadata": {},
     "output_type": "execute_result"
    }
   ],
   "source": [
    "Random_array=np.random.randint(10,size=(3,5))\n",
    "Random_array"
   ]
  },
  {
   "cell_type": "code",
   "execution_count": 8,
   "id": "f2d84b90-9ad2-4392-87de-b234ef18cbf0",
   "metadata": {},
   "outputs": [
    {
     "data": {
      "text/plain": [
       "array([[2, 3, 7, 8, 9],\n",
       "       [3, 3, 8, 9, 9],\n",
       "       [4, 4, 5, 9, 9]], dtype=int32)"
      ]
     },
     "execution_count": 8,
     "metadata": {},
     "output_type": "execute_result"
    }
   ],
   "source": [
    "np.sort(Random_array)"
   ]
  },
  {
   "cell_type": "code",
   "execution_count": 9,
   "id": "3e1169d8-d2a1-4e68-bae2-d69e70bbffe2",
   "metadata": {},
   "outputs": [
    {
     "data": {
      "text/plain": [
       "array([[1, 2, 3, 4, 0],\n",
       "       [0, 4, 1, 2, 3],\n",
       "       [3, 4, 0, 1, 2]])"
      ]
     },
     "execution_count": 9,
     "metadata": {},
     "output_type": "execute_result"
    }
   ],
   "source": [
    "np.argsort(Random_array)"
   ]
  },
  {
   "cell_type": "code",
   "execution_count": 10,
   "id": "99dd0e5c-902c-4989-b8b2-49995d40ddb2",
   "metadata": {},
   "outputs": [
    {
     "data": {
      "text/plain": [
       "array([[9, 2, 3, 7, 8],\n",
       "       [3, 8, 9, 9, 3],\n",
       "       [5, 9, 9, 4, 4]], dtype=int32)"
      ]
     },
     "execution_count": 10,
     "metadata": {},
     "output_type": "execute_result"
    }
   ],
   "source": [
    "Random_array\n"
   ]
  },
  {
   "cell_type": "code",
   "execution_count": 1,
   "id": "6177f930-255b-4f5f-b9c1-7cffb7e53de5",
   "metadata": {},
   "outputs": [],
   "source": [
    "import numpy as np"
   ]
  },
  {
   "cell_type": "code",
   "execution_count": 6,
   "id": "79f221f2-91af-4a3b-b8f6-e74aa30c5d16",
   "metadata": {},
   "outputs": [
    {
     "data": {
      "text/plain": [
       "array([1, 2, 3, 4, 5, 6, 7, 8, 9])"
      ]
     },
     "execution_count": 6,
     "metadata": {},
     "output_type": "execute_result"
    }
   ],
   "source": [
    "a1 =np.array([1,2,3,4,5,6,7,8,9,])\n",
    "a1"
   ]
  },
  {
   "cell_type": "code",
   "execution_count": 19,
   "id": "54ba6b71-0ea9-4477-8d71-459e8a3679a2",
   "metadata": {},
   "outputs": [
    {
     "name": "stdout",
     "output_type": "stream",
     "text": [
      "slicing of the index is \n"
     ]
    },
    {
     "data": {
      "text/plain": [
       "array([3, 4, 5, 6, 7, 8])"
      ]
     },
     "execution_count": 19,
     "metadata": {},
     "output_type": "execute_result"
    }
   ],
   "source": [
    "a1 =np.array([1,2,3,4,5,6,7,8,9,])\n",
    "print(\"slicing of the index is \")\n",
    "a1[2:8]\n",
    "\n"
   ]
  },
  {
   "cell_type": "code",
   "execution_count": 21,
   "id": "56db9b62-12d1-4fb8-a7b0-9352e568a53f",
   "metadata": {},
   "outputs": [
    {
     "name": "stdout",
     "output_type": "stream",
     "text": [
      "with step : [2 5 8]\n"
     ]
    }
   ],
   "source": [
    "print(\"with step :\",a1[1:9:3])"
   ]
  },
  {
   "cell_type": "code",
   "execution_count": 24,
   "id": "adde15db-f6cd-440b-9169-d61653e89226",
   "metadata": {},
   "outputs": [
    {
     "name": "stdout",
     "output_type": "stream",
     "text": [
      " negitive indexing is :  8\n"
     ]
    }
   ],
   "source": [
    "print(\" negitive indexing is : \" ,a1[-2])"
   ]
  },
  {
   "cell_type": "markdown",
   "id": "2928e921-929f-41d5-a769-59839072dcf2",
   "metadata": {},
   "source": [
    "## "
   ]
  },
  {
   "cell_type": "code",
   "execution_count": 25,
   "id": "aa2c2ebd-20a5-4cb1-b049-348665dc7abc",
   "metadata": {},
   "outputs": [],
   "source": [
    "a2=np.array([[1,2,3],\n",
    "            [4,5,6],\n",
    "             [7,8,9]\n",
    "            ])"
   ]
  },
  {
   "cell_type": "code",
   "execution_count": 26,
   "id": "b94745e6-6e51-4421-b715-d602a2a4b536",
   "metadata": {},
   "outputs": [
    {
     "data": {
      "text/plain": [
       "array([[1, 2, 3],\n",
       "       [4, 5, 6],\n",
       "       [7, 8, 9]])"
      ]
     },
     "execution_count": 26,
     "metadata": {},
     "output_type": "execute_result"
    }
   ],
   "source": [
    "a2"
   ]
  },
  {
   "cell_type": "code",
   "execution_count": 27,
   "id": "7a5d29ab-1618-4171-a816-e16dc9e77667",
   "metadata": {},
   "outputs": [
    {
     "data": {
      "text/plain": [
       "(3, 3)"
      ]
     },
     "execution_count": 27,
     "metadata": {},
     "output_type": "execute_result"
    }
   ],
   "source": [
    "a2.shape"
   ]
  },
  {
   "cell_type": "code",
   "execution_count": 37,
   "id": "d0421b2f-0d72-4f8e-8838-7ead73ea5d0f",
   "metadata": {},
   "outputs": [
    {
     "data": {
      "text/plain": [
       "np.int64(9)"
      ]
     },
     "execution_count": 37,
     "metadata": {},
     "output_type": "execute_result"
    }
   ],
   "source": [
    "a2[2,2]"
   ]
  },
  {
   "cell_type": "code",
   "execution_count": 39,
   "id": "e07a65aa-d66d-4ae4-ab1d-08fd2c525894",
   "metadata": {},
   "outputs": [
    {
     "data": {
      "text/plain": [
       "array([ 0,  1,  2,  2,  3,  4,  4,  5,  6,  6,  7,  7,  8,  9, 11])"
      ]
     },
     "execution_count": 39,
     "metadata": {},
     "output_type": "execute_result"
    }
   ],
   "source": [
    "unsorted_arr=np.array([4,6,2,4,7,2,6,9,0,1,3,5,7,8,11])\n",
    "np.sort(unsorted_arr)"
   ]
  },
  {
   "cell_type": "code",
   "execution_count": null,
   "id": "32f89001-423b-4e2e-b9b0-8e0e51a9a58f",
   "metadata": {},
   "outputs": [],
   "source": []
  }
 ],
 "metadata": {
  "kernelspec": {
   "display_name": "Python 3 (ipykernel)",
   "language": "python",
   "name": "python3"
  },
  "language_info": {
   "codemirror_mode": {
    "name": "ipython",
    "version": 3
   },
   "file_extension": ".py",
   "mimetype": "text/x-python",
   "name": "python",
   "nbconvert_exporter": "python",
   "pygments_lexer": "ipython3",
   "version": "3.13.2"
  }
 },
 "nbformat": 4,
 "nbformat_minor": 5
}
