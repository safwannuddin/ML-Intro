{
 "cells": [
  {
   "cell_type": "code",
   "execution_count": null,
   "id": "af939688-b546-4247-b5e6-4b336b7314b9",
   "metadata": {},
   "outputs": [],
   "source": []
  }
 ],
 "metadata": {
  "kernelspec": {
   "display_name": "",
   "name": ""
  },
  "language_info": {
   "name": ""
  }
 },
 "nbformat": 4,
 "nbformat_minor": 5
}
