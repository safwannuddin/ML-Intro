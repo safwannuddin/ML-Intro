{
 "cells": [
  {
   "cell_type": "markdown",
   "id": "78761517-eb1a-4336-9c39-cf76266553f2",
   "metadata": {},
   "source": [
    "### bubble sort"
   ]
  },
  {
   "cell_type": "code",
   "execution_count": null,
   "id": "8602030a-ee42-43e1-8888-10a82401b395",
   "metadata": {},
   "outputs": [],
   "source": [
    "import numpy as np \n",
    "def bubble_sort(a):\n",
    "    n=len(a)\n",
    "    for i in range(n):\n",
    "        for j in range(n-i-1):\n",
    "            if (a[j] > a[j+1]):\n",
    "                a[j],a[j+1]=a[j"
   ]
  }
 ],
 "metadata": {
  "kernelspec": {
   "display_name": "Python 3 (ipykernel)",
   "language": "python",
   "name": "python3"
  },
  "language_info": {
   "codemirror_mode": {
    "name": "ipython",
    "version": 3
   },
   "file_extension": ".py",
   "mimetype": "text/x-python",
   "name": "python",
   "nbconvert_exporter": "python",
   "pygments_lexer": "ipython3",
   "version": "3.13.5"
  }
 },
 "nbformat": 4,
 "nbformat_minor": 5
}
